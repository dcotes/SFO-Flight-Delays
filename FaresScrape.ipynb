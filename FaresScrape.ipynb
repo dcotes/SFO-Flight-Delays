{
 "cells": [
  {
   "cell_type": "markdown",
   "metadata": {},
   "source": [
    "# Script thats scrapes average flight fare between SFO and destination cities. Used as a feature to estimate size/length of a flight"
   ]
  },
  {
   "cell_type": "code",
   "execution_count": 128,
   "metadata": {},
   "outputs": [],
   "source": [
    "from bs4 import BeautifulSoup\n",
    "import requests\n",
    "import os\n",
    "from selenium import webdriver\n",
    "from selenium.webdriver.common.keys import Keys\n",
    "import time\n",
    "import pickle\n",
    "import statistics\n",
    "import pandas as pd"
   ]
  },
  {
   "cell_type": "code",
   "execution_count": 111,
   "metadata": {},
   "outputs": [],
   "source": [
    "# Scrape average fare cost data from faredetective.com for each unique destination airport in flight data\n",
    "def get_price_info():\n",
    "    chromedriver = \"/Users/dcotes/documents/chromedriver/chromedriver\" \n",
    "    os.environ[\"webdriver.chrome.driver\"] = chromedriver\n",
    "    driver = webdriver.Chrome(chromedriver)\n",
    "    \n",
    "    dest_list = pd.read_pickle('dest_list.pkl')\n",
    "    dest_dict = {}\n",
    "    \n",
    "    for dest in dest_list:\n",
    "        driver.get(\"https://www.faredetective.com/\")\n",
    "        \n",
    "        from_air = driver.find_element_by_id(\"fromAir\")\n",
    "        from_air.send_keys(\"SFO\")\n",
    "        \n",
    "        to_air = driver.find_element_by_id(\"toAir\")\n",
    "        to_air.send_keys(dest)\n",
    "        \n",
    "        driver.find_element_by_class_name('btn-fare').click()\n",
    "        \n",
    "        req = requests.get(driver.current_url).text\n",
    "        soup = BeautifulSoup(req)\n",
    "        price = int(soup.find(\"th\", string=\"Average price\").find_next_sibling().text.split('$')[1])\n",
    "        \n",
    "        dest_dict[dest] = price\n",
    "        time.sleep(5)\n",
    "    \n",
    "    return dest_dict\n"
   ]
  },
  {
   "cell_type": "code",
   "execution_count": 137,
   "metadata": {},
   "outputs": [],
   "source": [
    "# Impute mean fare into missing data\n",
    "\n",
    "def fares_transform():\n",
    "    mean_fare = int(statistics.mean(list(fares_dict.values())))\n",
    "    \n",
    "    for fare in fares_dict:\n",
    "        if fares_dict[fare] == 0:\n",
    "            fares_dict[fare] = mean_fare\n",
    "            \n",
    "    return fares_dict\n"
   ]
  },
  {
   "cell_type": "code",
   "execution_count": 135,
   "metadata": {},
   "outputs": [],
   "source": [
    "fares_dict = get_price_info()\n",
    "fares_transform()"
   ]
  },
  {
   "cell_type": "code",
   "execution_count": null,
   "metadata": {},
   "outputs": [],
   "source": [
    "pd.to_pickle(fares_dict, 'fares_dict.pkl')"
   ]
  },
  {
   "cell_type": "code",
   "execution_count": null,
   "metadata": {},
   "outputs": [],
   "source": []
  }
 ],
 "metadata": {
  "kernelspec": {
   "display_name": "Python 3",
   "language": "python",
   "name": "python3"
  },
  "language_info": {
   "codemirror_mode": {
    "name": "ipython",
    "version": 3
   },
   "file_extension": ".py",
   "mimetype": "text/x-python",
   "name": "python",
   "nbconvert_exporter": "python",
   "pygments_lexer": "ipython3",
   "version": "3.6.5"
  }
 },
 "nbformat": 4,
 "nbformat_minor": 2
}
