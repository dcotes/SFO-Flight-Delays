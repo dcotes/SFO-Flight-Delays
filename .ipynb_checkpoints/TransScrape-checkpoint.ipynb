{
 "cells": [
  {
   "cell_type": "markdown",
   "metadata": {},
   "source": [
    "# This Notebook uses Selenium to scrape data from transtats.bts.gov and combine into a single csv file. All flights US domestic flights between Jan 2017 and July 2018 are collected.\n",
    "\n",
    "### Note: if you want to use this you will need to change the paths in the chromedriver cell as well as those in the move_flight_data() cell. "
   ]
  },
  {
   "cell_type": "code",
   "execution_count": 3,
   "metadata": {},
   "outputs": [],
   "source": [
    "from bs4 import BeautifulSoup\n",
    "import pandas as pd\n",
    "import os\n",
    "import zipfile\n",
    "import requests\n",
    "from selenium import webdriver\n",
    "from selenium.webdriver.support.ui import Select\n",
    "from selenium.webdriver.common.keys import Keys\n",
    "import time"
   ]
  },
  {
   "cell_type": "code",
   "execution_count": 2,
   "metadata": {},
   "outputs": [],
   "source": [
    "# Set up chrome webdriver\n",
    "\n",
    "chromedriver = \"/Users/dcotes/documents/chromedriver/chromedriver\" \n",
    "os.environ[\"webdriver.chrome.driver\"] = chromedriver\n",
    "driver = webdriver.Chrome(chromedriver)\n"
   ]
  },
  {
   "cell_type": "code",
   "execution_count": null,
   "metadata": {},
   "outputs": [],
   "source": [
    "# Download all relevant flight data form the Transtats website \n",
    "\n",
    "def scrape_flight_data():\n",
    "    \n",
    "    #Send driver to the transtats website\n",
    "    driver.get(\"https://www.transtats.bts.gov/DL_SelectFields.asp?Table_ID=236\")\n",
    "    \n",
    "    #Select options on download page for data we want\n",
    "    titles = ['Year', 'DayOfWeek', 'FlightDate', 'Reporting_Airline', 'Tail_Number', 'Flight_Number_Reporting_Airline', \n",
    "          'Origin', 'Dest', 'CRSDepTime', 'DepTime', 'DepDelayMinutes', 'CRSArrTime', 'ArrTime', 'ArrDelayMinutes']\n",
    "    for title in titles:\n",
    "        driver.find_element_by_xpath(\"//*[@title=\"+'\"'+title+'\"'+']').click()\n",
    "        \n",
    "    \n",
    "    #Loop through list of tuples of months and years, downloading data from each combination\n",
    "    a = '2017'\n",
    "    b = '2018'\n",
    "    times = [('January', a), ('February', a) , ('March', a), ('April', a), \n",
    "             ('May', a), ('June', a), ('July', a), ('August', a), \n",
    "             ('September', a), ('October', a), ('November', a), ('December', a), \n",
    "             ('January', b), ('February', b), ('March', b), ('April', b), \n",
    "             ('May', b), ('June', b), ('July', b)]\n",
    "\n",
    "\n",
    "    for t in times:\n",
    "        select_year = Select(driver.find_element_by_id(\"XYEAR\"))\n",
    "        select_year.select_by_value(t[1])\n",
    "        select_month = Select(driver.find_element_by_id(\"FREQUENCY\"))\n",
    "        select_month.select_by_visible_text(t[0])\n",
    "        driver.find_element_by_name('Download').click()\n",
    "        # This takes FOREVER but if you don't do this you get the same file many times\n",
    "        time.sleep(60)\n",
    "\n",
    "\n",
    "scrape_flight_data()"
   ]
  },
  {
   "cell_type": "code",
   "execution_count": null,
   "metadata": {},
   "outputs": [],
   "source": [
    "# Move downloaded data into project folder for further processing\n",
    "def move_flight_data():\n",
    "    # move zip files from downloads to project directory\n",
    "    for file in os.listdir('/Users/dcotes/downloads'):\n",
    "        if file.endswith('csv'):\n",
    "            os.rename('/Users/dcotes/downloads/'+file, \"/Users/dcotes/Documents/metis/Projects/Luther/flights/\"+file)\n",
    "\n",
    "move_flight_data()\n"
   ]
  },
  {
   "cell_type": "code",
   "execution_count": null,
   "metadata": {},
   "outputs": [],
   "source": [
    "# TODO: Programmatically extract zip files -> csv\n",
    "\n",
    "# def extract_flight_data():\n",
    "#     os.chdir('flights')\n",
    "#     for file in os.listdir():\n",
    "#         file_name = os.path.abspath(file) # get full path of files\n",
    "#         zip_ref = zipfile.ZipFile(file_name) # create zipfile object\n",
    "#         zip_ref.extractall(os.getcwd()) # extract file to dir\n",
    "#         zip_ref.close() # close file\n",
    "#         os.remove(file_name)\n",
    "    "
   ]
  },
  {
   "cell_type": "code",
   "execution_count": 1,
   "metadata": {},
   "outputs": [],
   "source": [
    "# Combine all data into one csv file for processing\n",
    "def combine_data():\n",
    "    combined_csv = pd.concat([pd.read_csv('flights/'+f) for f in os.listdir('flights/')],\n",
    "                            sort=True)\n",
    "    combined_csv.to_csv(\"all_flights.csv\", index=False)\n",
    "\n",
    "    "
   ]
  },
  {
   "cell_type": "code",
   "execution_count": 5,
   "metadata": {},
   "outputs": [],
   "source": [
    "combine_data()"
   ]
  },
  {
   "cell_type": "code",
   "execution_count": null,
   "metadata": {},
   "outputs": [],
   "source": []
  }
 ],
 "metadata": {
  "kernelspec": {
   "display_name": "Python 3",
   "language": "python",
   "name": "python3"
  },
  "language_info": {
   "codemirror_mode": {
    "name": "ipython",
    "version": 3
   },
   "file_extension": ".py",
   "mimetype": "text/x-python",
   "name": "python",
   "nbconvert_exporter": "python",
   "pygments_lexer": "ipython3",
   "version": "3.6.5"
  }
 },
 "nbformat": 4,
 "nbformat_minor": 2
}
